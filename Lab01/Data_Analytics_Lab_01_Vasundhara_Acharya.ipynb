{
  "nbformat": 4,
  "nbformat_minor": 0,
  "metadata": {
    "colab": {
      "private_outputs": true,
      "provenance": []
    },
    "kernelspec": {
      "name": "ir",
      "display_name": "R"
    },
    "language_info": {
      "name": "R"
    }
  },
  "cells": [
    {
      "cell_type": "code",
      "execution_count": null,
      "metadata": {
        "id": "Bc08LxXbKkuu"
      },
      "outputs": [],
      "source": [
        "#NOTE:\n",
        "1. THIS NOTEBOOK CONSISTS OF EXERCISES OF LAB1\n",
        "2. BOX PLOTS,QQPLOT, ECDF PLOTS ARE PLOTTED TO KNOW THE DISTRIBUTION OF DATA\n",
        "3. RUG PLOT IS ALSO PLOTTED\n",
        "4. WE NEED TO UNDERSTAND THE TYPE BY USING CLASS\n",
        "5. ELIMINATE THE NA AND ?\n",
        "6. WHILE PLOTTING THE HISTOGRAM WITH SEQUENCE, WE NEED TO FIRST UNDERSTAND THE RANGE OF THE DATA\n"
      ]
    },
    {
      "cell_type": "code",
      "source": [
        "install.packages('xlsx')"
      ],
      "metadata": {
        "id": "xF8ROb-rVS6V"
      },
      "execution_count": null,
      "outputs": []
    },
    {
      "cell_type": "code",
      "source": [
        "install.packages(\"readxl\")"
      ],
      "metadata": {
        "id": "FWWirQaFOuVR"
      },
      "execution_count": null,
      "outputs": []
    },
    {
      "cell_type": "code",
      "source": [
        "library(readxl)"
      ],
      "metadata": {
        "id": "xIYR9F5-O8uI"
      },
      "execution_count": null,
      "outputs": []
    },
    {
      "cell_type": "code",
      "source": [
        "##################READ_EXCEL TO READ EACH OF THE SHEETS#########\n",
        "EPI_data<-read_excel(\"2010EPI_data.xls\",\n",
        "                       sheet = 2)\n",
        "\n",
        "\n",
        "# For viewing the details of sheet 2. This can be done for other sheets as well\n",
        "\n",
        "head(EPI_data)\n"
      ],
      "metadata": {
        "id": "ZmqTPAuONZKN"
      },
      "execution_count": null,
      "outputs": []
    },
    {
      "cell_type": "code",
      "source": [
        "help(\"stem\")"
      ],
      "metadata": {
        "id": "GgV1z9BQQ7ec"
      },
      "execution_count": null,
      "outputs": []
    },
    {
      "cell_type": "code",
      "source": [
        "##########make the first row as the header of the dataset\n",
        "EPI_data_csv<-read.csv(\"EPI_Data.csv\")\n",
        "data_2010EPI <- EPI_data_csv[-1, ]"
      ],
      "metadata": {
        "id": "Xkqg81N7M47n"
      },
      "execution_count": null,
      "outputs": []
    },
    {
      "cell_type": "code",
      "source": [
        "head(data_2010EPI)"
      ],
      "metadata": {
        "id": "avRdV7MtR6y3"
      },
      "execution_count": null,
      "outputs": []
    },
    {
      "cell_type": "code",
      "source": [
        "summary(data_2010EPI$EPI)\n",
        "#################DISPLAY THE MEAN, MEDIAN, Minimum, Lower Hinge (Q1),Median (Q2), Upper Hinge (Q3) and Maximum after the removal of NA values\n",
        "fivenum(data_2010EPI$EPI, na.rm = T)"
      ],
      "metadata": {
        "id": "0nWmjVIZXjMX"
      },
      "execution_count": null,
      "outputs": []
    },
    {
      "cell_type": "code",
      "source": [
        "#########UNDERSTAND THE STEM PLOT###########\n",
        "help(stem)"
      ],
      "metadata": {
        "id": "LbMN9wftdQFV"
      },
      "execution_count": null,
      "outputs": []
    },
    {
      "cell_type": "code",
      "source": [
        "###########STEM PLOT WITH SCALE WITH SCALE CONTROLLING THE PLOT LENGTH###########\n",
        "#NOTE#: The  number on the left is the stem and the number on right is the leaf\n",
        "#####USEFUL FOR CHECKING THE PRECISION OF NUMBERS IN THE DATASET\n",
        "stem(data_2010EPI$EPI,scale=2)"
      ],
      "metadata": {
        "id": "gFCNjhMdX1yi"
      },
      "execution_count": null,
      "outputs": []
    },
    {
      "cell_type": "code",
      "source": [
        "########outcome: Values in the range 60-70 are in highest count for the EPI variable#\n",
        "hist(data_2010EPI$EPI,main=\"Histogram Plot of the variable EPI\")"
      ],
      "metadata": {
        "id": "7-kFg6ufeJzH"
      },
      "execution_count": null,
      "outputs": []
    },
    {
      "cell_type": "code",
      "source": [
        "hist(data_2010EPI$EPI, seq(30., 95., 1.0), prob=TRUE)"
      ],
      "metadata": {
        "id": "fBVnyJ6efDd0"
      },
      "execution_count": null,
      "outputs": []
    },
    {
      "cell_type": "code",
      "source": [
        "hist(data_2010EPI$EPI, seq(30., 95., 1.0), prob = TRUE)\n",
        "\n",
        "#######WE SET THE BANDWIDTH=1 HERE\n",
        "lines(density(data_2010EPI$EPI,na.rm=TRUE,bw=1.)) #bw=“SJ”"
      ],
      "metadata": {
        "id": "UZm2Iih9fbve"
      },
      "execution_count": null,
      "outputs": []
    },
    {
      "cell_type": "code",
      "source": [
        "#Sheather-Jones (SJ) bandwidth selection method:automatically selects an appropriate bandwidt\n",
        "hist(data_2010EPI$EPI, seq(30., 95., 1.0), prob = TRUE)\n",
        "lines(density(data_2010EPI$EPI,na.rm=TRUE,bw=\"SJ\"))"
      ],
      "metadata": {
        "id": "nHMD18CfgOGF"
      },
      "execution_count": null,
      "outputs": []
    },
    {
      "cell_type": "code",
      "source": [
        "help(rug)"
      ],
      "metadata": {
        "id": "2yYgJTRTgz9h"
      },
      "execution_count": null,
      "outputs": []
    },
    {
      "cell_type": "code",
      "source": [
        "hist(data_2010EPI$EPI, seq(30., 95., 1.0), prob = TRUE)\n",
        "rug(data_2010EPI$EPI,col=\"green\")"
      ],
      "metadata": {
        "id": "JE4SCJIvghSp"
      },
      "execution_count": null,
      "outputs": []
    },
    {
      "cell_type": "code",
      "source": [
        "#CDF plot will show the cumulative distribution of the data, allowing to understand how the data values are\n",
        "#spread across the entire range and what proportion of data falls below or equal to specific values.\n",
        "\n",
        "plot(data_2010EPI$EPI, main = \"CDF Plot OF EPI\", xlab = \"Data\", ylab = \"Cumulative Probability\", col = \"blue\")"
      ],
      "metadata": {
        "id": "dQ39DLLNcO__"
      },
      "execution_count": null,
      "outputs": []
    },
    {
      "cell_type": "code",
      "source": [
        "#If both sets of quantiles came from the same distribution, then the points on the plot should roughly form a straight diagonal line.\n",
        "qqplot(data_2010EPI$ENVHEALTH, data_2010EPI$ECOSYSTEM,main=\"QQPLOT to check the distributions\")"
      ],
      "metadata": {
        "id": "J7verr4fhqnY"
      },
      "execution_count": null,
      "outputs": []
    },
    {
      "cell_type": "code",
      "source": [
        "qqnorm(data_2010EPI$ENVHEALTH, main = \"Q-Q Plot of EPI DALY\", xlab = \"Theoretical Quantiles\", ylab = \"Sample Quantiles\")"
      ],
      "metadata": {
        "id": "x1elU8tQRTFF"
      },
      "execution_count": null,
      "outputs": []
    },
    {
      "cell_type": "code",
      "source": [
        "##############EXERCISE 2 BEGINS:\n",
        "Your exercise: do the same exploration and\n",
        "fitting for another 2 variables in the EPI_data,\n",
        "i.e. primary variables (DALY, WATER_H, …)\n",
        "• Try fitting other distributions – i.e. as ecdf or qq"
      ],
      "metadata": {
        "id": "zrMNFAkOcPDZ"
      },
      "execution_count": null,
      "outputs": []
    },
    {
      "cell_type": "code",
      "source": [
        "EPI_data_csv<-read.csv(\"EPI_Data.csv\")\n",
        "data_2010EPI <- EPI_data_csv[-1, ]"
      ],
      "metadata": {
        "id": "NCZtou_wO-RP"
      },
      "execution_count": null,
      "outputs": []
    },
    {
      "cell_type": "code",
      "source": [
        "summary(data_2010EPI$DALY)\n",
        "#################DISPLAY THE MEAN, MEDIAN, Minimum, Lower Hinge (Q1),Median (Q2), Upper Hinge (Q3) and Maximum after the removal of NA values\n",
        "fivenum(data_2010EPI$DALY, na.rm = T)"
      ],
      "metadata": {
        "id": "WgfxWLIVi7fH"
      },
      "execution_count": null,
      "outputs": []
    },
    {
      "cell_type": "code",
      "source": [
        "############REMOVE THE NA BEFORE PROCESSING ANY FURTHER#######\n",
        "# Create a data frame with a column containing NA values\n",
        "df <- read.csv(\"EPI_Data.csv\")\n",
        "\n",
        "# Use na.omit() to remove rows with NA values\n",
        "EPI <- na.omit(df)\n",
        "\n",
        "\n"
      ],
      "metadata": {
        "id": "kAdcvlY_kaId"
      },
      "execution_count": null,
      "outputs": []
    },
    {
      "cell_type": "code",
      "source": [
        "hist(EPI$DALY)"
      ],
      "metadata": {
        "id": "Uof_gonKcPG3"
      },
      "execution_count": null,
      "outputs": []
    },
    {
      "cell_type": "code",
      "source": [
        "######SHORTER STEM PLOT################\n",
        "stem(EPI$DALY)"
      ],
      "metadata": {
        "id": "e8zIIft8Se0r"
      },
      "execution_count": null,
      "outputs": []
    },
    {
      "cell_type": "code",
      "source": [
        "######Detailed STEM PLOT################\n",
        "stem(EPI$DALY,scal=2)\n",
        "#######WE SEE THE DISTRIBUTION OF THE DATA CAN BE BETTER UNDERSTOOD HERE#######"
      ],
      "metadata": {
        "id": "9SI7XJM6jgzJ"
      },
      "execution_count": null,
      "outputs": []
    },
    {
      "cell_type": "code",
      "source": [
        "data_range <- range(EPI$DALY)\n",
        "print(data_range)\n",
        "\n"
      ],
      "metadata": {
        "id": "AhNdJw2ojvG5"
      },
      "execution_count": null,
      "outputs": []
    },
    {
      "cell_type": "code",
      "source": [
        "print(class(EPI$DALY))"
      ],
      "metadata": {
        "id": "xH67I60HP4mc"
      },
      "execution_count": null,
      "outputs": []
    },
    {
      "cell_type": "code",
      "source": [
        "hist(EPI$DALY, seq(18., 95., 2.0), prob = TRUE)\n",
        "lines(density(EPI$DALY,na.rm=TRUE,bw=1.))"
      ],
      "metadata": {
        "id": "Mk9sdu_kPjXf"
      },
      "execution_count": null,
      "outputs": []
    },
    {
      "cell_type": "code",
      "source": [
        "# Create the Q-Q plot against the standard normal distribution\n",
        "qqnorm(EPI$DALY, main = \"Q-Q Plot of EPI DALY\", xlab = \"Theoretical Quantiles\", ylab = \"Sample Quantiles\")\n",
        "##########: A straight diagonal line indicates a good fit between the data and the theoretical distribution.\n",
        "####Deviations from a straight line suggest variation from the assumed distribution.\n",
        "##########This is near to straight diagonal"
      ],
      "metadata": {
        "id": "9PTxNUSESfKj"
      },
      "execution_count": null,
      "outputs": []
    },
    {
      "cell_type": "code",
      "source": [
        "#CDF plot will show the cumulative distribution of the data, allowing to understand how the data values are\n",
        "#spread across the entire range and what proportion of data falls below or equal to specific values.\n",
        "\n",
        "plot(EPI$DALY, main = \"CDF Plot OF EPI DALY\", xlab = \"Data\", ylab = \"Cumulative Probability\", col = \"blue\")"
      ],
      "metadata": {
        "id": "hcxaOMeXRZLM"
      },
      "execution_count": null,
      "outputs": []
    },
    {
      "cell_type": "code",
      "source": [
        "######WATER QUALITY WITH VALUE 100 ARE HIGHER#######\n",
        "hist(EPI$WATER_H)"
      ],
      "metadata": {
        "id": "q75lULipSALs"
      },
      "execution_count": null,
      "outputs": []
    },
    {
      "cell_type": "code",
      "source": [
        "data_range <- range(EPI$WATER_H)\n",
        "print(data_range)\n"
      ],
      "metadata": {
        "id": "p3mOTsWZSj2E"
      },
      "execution_count": null,
      "outputs": []
    },
    {
      "cell_type": "code",
      "source": [
        "\n",
        "hist(EPI$WATER_H, seq(18., 100., 2.0), prob = TRUE)\n",
        "lines(density(EPI$WATER_H,na.rm=TRUE,bw=1.))"
      ],
      "metadata": {
        "id": "5n1exgkYStmg"
      },
      "execution_count": null,
      "outputs": []
    },
    {
      "cell_type": "code",
      "source": [
        "stem(EPI$WATER_H)"
      ],
      "metadata": {
        "id": "dk5LxEGaS3Kd"
      },
      "execution_count": null,
      "outputs": []
    },
    {
      "cell_type": "code",
      "source": [
        "stem(EPI$WATER_H,scale=2)"
      ],
      "metadata": {
        "id": "9di_yGagTL5e"
      },
      "execution_count": null,
      "outputs": []
    },
    {
      "cell_type": "code",
      "source": [
        "\n",
        "plot(EPI$WATER_H, main = \"CDF Plot OF EPI WATER_H\", xlab = \"Data\", ylab = \"Cumulative Probability\", col = \"blue\")"
      ],
      "metadata": {
        "id": "6eakN6LITPZN"
      },
      "execution_count": null,
      "outputs": []
    },
    {
      "cell_type": "code",
      "source": [
        "qqnorm(EPI$WATER_H, main = \"Q-Q Plot of EPI WATER_H\", xlab = \"Theoretical Quantiles\", ylab = \"Sample Quantiles\")"
      ],
      "metadata": {
        "id": "9qNgTeAtTYTc"
      },
      "execution_count": null,
      "outputs": []
    },
    {
      "cell_type": "code",
      "source": [
        "boxplot(EPI$EPI,EPI$DALY,main = \"Boxplot of EPI and DALY\",names = c(\"EPI\", \"DALY\"))"
      ],
      "metadata": {
        "id": "i-wMiW4FTjy3"
      },
      "execution_count": null,
      "outputs": []
    },
    {
      "cell_type": "code",
      "source": [
        "#########WE SEE SOME OUTLIERS HERE#########\n",
        "boxplot(EPI$EPI,EPI$WATER_H,main = \"Boxplot of EPI and WATER_H\",names = c(\"EPI\", \"WATER_H\"))"
      ],
      "metadata": {
        "id": "RdjVpCJ-ULyc"
      },
      "execution_count": null,
      "outputs": []
    },
    {
      "cell_type": "code",
      "source": [
        "\n",
        " ############FOR THE BOXPLOT WE CAN USE THE MAIN TO DISPLAY THE TITLE AND NAMES TO DISPLAY THE NAMES OF THE PLOTS\n",
        "boxplot(EPI$ENVHEALTH, EPI$ECOSYSTEM, main = \"Boxplot of ENVHEALTH and ECOSYSTEM\",names = c(\"ENVHEALTH\", \"ECOSYSTEM\"))"
      ],
      "metadata": {
        "id": "djGRrt8yUXaV"
      },
      "execution_count": null,
      "outputs": []
    },
    {
      "cell_type": "code",
      "source": [
        "\n",
        " ############FOR THE BOXPLOT WE CAN USE THE MAIN TO DISPLAY THE TITLE AND NAMES TO DISPLAY THE NAMES OF THE PLOTS\n",
        "boxplot(EPI$BIODIVERSITY, EPI$ECOSYSTEM, main = \"Boxplot of BIODIVERSITY and ECOSYSTEM\",names = c(\"AIR_EWATER_E\", \"ECOSYSTEM\"))"
      ],
      "metadata": {
        "id": "l-YAcMg5UoXW"
      },
      "execution_count": null,
      "outputs": []
    },
    {
      "cell_type": "code",
      "source": [
        "ENVHEALTH <- EPI$ENVHEALTH\n",
        "DALY <- EPI$DALY\n",
        "AIR_H<- EPI$AIR_H\n",
        "WATER_H<- EPI$WATER_H\n",
        "\n",
        "boxplot(ENVHEALTH,DALY,AIR_H,WATER_H, names = c(\"ENVHEALTH\", \"DALY\", \"AIR_H\", \"WATER_H\"), main=\"Box plot of different variables \")"
      ],
      "metadata": {
        "id": "Ym7yrJLNZSp3"
      },
      "execution_count": null,
      "outputs": []
    },
    {
      "cell_type": "code",
      "source": [
        "################Exercise 2: filtering (populations)"
      ],
      "metadata": {
        "id": "0VWQsM78VEYM"
      },
      "execution_count": null,
      "outputs": []
    },
    {
      "cell_type": "code",
      "source": [
        "#######WE CANNOT DIRECTLY ACCESS THE VARIABLE, HENCE ALWAYS USE THE DOLLAR SIGN#####\n",
        "EPILand<-EPI[!EPI$Landlock]\n"
      ],
      "metadata": {
        "id": "OMdD59wyVKHL"
      },
      "execution_count": null,
      "outputs": []
    },
    {
      "cell_type": "code",
      "source": [
        "head(EPILand)"
      ],
      "metadata": {
        "id": "0oAgSL0bajmO"
      },
      "execution_count": null,
      "outputs": []
    },
    {
      "cell_type": "code",
      "source": [
        "Eland <- EPILand[!is.na(EPILand)]\n",
        "head(Eland)\n",
        "#####FIND THE CLASS OF THIS VARIABLE########\n",
        "\n"
      ],
      "metadata": {
        "id": "GGQ9yY2aYNgn"
      },
      "execution_count": null,
      "outputs": []
    },
    {
      "cell_type": "code",
      "source": [
        "EPIWater<-EPI[!EPI$No_surface_water]"
      ],
      "metadata": {
        "id": "Dbyt2lOIbgu9"
      },
      "execution_count": null,
      "outputs": []
    },
    {
      "cell_type": "code",
      "source": [
        "head(EPIWater)"
      ],
      "metadata": {
        "id": "gm1-j6bKbnfv"
      },
      "execution_count": null,
      "outputs": []
    },
    {
      "cell_type": "code",
      "source": [
        "install.packages(\"dplyr\")"
      ],
      "metadata": {
        "id": "Fl_ki6lMffH5"
      },
      "execution_count": null,
      "outputs": []
    },
    {
      "cell_type": "code",
      "source": [
        "library(dplyr)"
      ],
      "metadata": {
        "id": "fRCl71HqfhHt"
      },
      "execution_count": null,
      "outputs": []
    },
    {
      "cell_type": "code",
      "source": [
        "\n",
        "filterdf <- EPI%>% filter(No_surface_water==0)\n",
        "\n",
        "# Print filtered data frame\n",
        "filterdf"
      ],
      "metadata": {
        "id": "pTLyJqu2brb_"
      },
      "execution_count": null,
      "outputs": []
    },
    {
      "cell_type": "code",
      "source": [
        "# Use na.omit() to remove rows with NA values\n",
        "EPI_No_Water <- na.omit(filterdf)"
      ],
      "metadata": {
        "id": "TG4jofKngreR"
      },
      "execution_count": null,
      "outputs": []
    },
    {
      "cell_type": "code",
      "source": [
        "hist(EPI_No_Water$WATER_H)"
      ],
      "metadata": {
        "id": "kBDRPdEVcbTn"
      },
      "execution_count": null,
      "outputs": []
    },
    {
      "cell_type": "code",
      "source": [
        "hist(EPI$WATER_H)"
      ],
      "metadata": {
        "id": "PK6ooJLzhCTO"
      },
      "execution_count": null,
      "outputs": []
    },
    {
      "cell_type": "code",
      "source": [
        "######NOTES: SURFACE WATER DOES NOT AFFECT THE WATER HEALTH###########"
      ],
      "metadata": {
        "id": "tctXQhuWhJmF"
      },
      "execution_count": null,
      "outputs": []
    },
    {
      "cell_type": "code",
      "source": [
        "filterdf_density <- EPI%>% filter(High_Population_Density==0)\n",
        "\n",
        "# Print filtered data frame\n",
        "filterdf_density"
      ],
      "metadata": {
        "id": "RhA47yNPhNzH"
      },
      "execution_count": null,
      "outputs": []
    },
    {
      "cell_type": "code",
      "source": [
        "EPI_No_Density <- na.omit(filterdf_density)"
      ],
      "metadata": {
        "id": "H7Mma0yJhe8e"
      },
      "execution_count": null,
      "outputs": []
    },
    {
      "cell_type": "code",
      "source": [
        "hist(EPI_No_Density$EPI)"
      ],
      "metadata": {
        "id": "xbMG-Itehj9n"
      },
      "execution_count": null,
      "outputs": []
    },
    {
      "cell_type": "code",
      "source": [
        "hist(EPI$EPI)"
      ],
      "metadata": {
        "id": "NxsME8Oghuw8"
      },
      "execution_count": null,
      "outputs": []
    },
    {
      "cell_type": "code",
      "source": [
        "#EXERCISE: how to filter on EPI_regions or GEO_subregion?\n",
        "EPI_South_Asia <- EPI[EPI$GEO_subregion==\"South Asia\"]\n",
        "head(EPI_South_Asia)"
      ],
      "metadata": {
        "id": "d7HplFubh2v3"
      },
      "execution_count": null,
      "outputs": []
    },
    {
      "cell_type": "code",
      "source": [],
      "metadata": {
        "id": "iYtk3aa4ij-1"
      },
      "execution_count": null,
      "outputs": []
    },
    {
      "cell_type": "code",
      "source": [
        "##########THIS MARKS THE BEGINNING OF THE WATER TREATMENT DATASET#######\n",
        "Water=read.csv(\"water-treatment.csv\")\n",
        "Water=Water[-1,]"
      ],
      "metadata": {
        "id": "Ccs7PkiFh2ze"
      },
      "execution_count": null,
      "outputs": []
    },
    {
      "cell_type": "code",
      "source": [
        "Water_cleaned <- na.omit(Water)"
      ],
      "metadata": {
        "id": "IK8egSa8kmIP"
      },
      "execution_count": null,
      "outputs": []
    },
    {
      "cell_type": "code",
      "source": [
        "head(Water_cleaned)"
      ],
      "metadata": {
        "id": "y3kcB-yBkd5I"
      },
      "execution_count": null,
      "outputs": []
    },
    {
      "cell_type": "code",
      "source": [
        "summary(Water_cleaned)"
      ],
      "metadata": {
        "id": "9KwX9Te1HTx0"
      },
      "execution_count": null,
      "outputs": []
    },
    {
      "cell_type": "code",
      "source": [
        "fivenum(Water_cleaned$PH.P)"
      ],
      "metadata": {
        "id": "ojCwFHHHHX5H"
      },
      "execution_count": null,
      "outputs": []
    },
    {
      "cell_type": "code",
      "source": [
        "###########AFTER REMOVING THE NA. WE NOTICE THAT THE FIVENUM BY DEFAULT DOES NOT CONSIDER THE NA WHILE COMPUTING THE STATISTICS\n",
        "fivenum(Water_cleaned$PH.P,na.rm=T)"
      ],
      "metadata": {
        "id": "SzuQPyh6HeD2"
      },
      "execution_count": null,
      "outputs": []
    },
    {
      "cell_type": "code",
      "source": [
        "#######WATER WITH PH VALUES BETWEEN 7.7 AND 7.8 ARE THE HIGHEST######\n",
        "hist(Water_cleaned$PH.P)"
      ],
      "metadata": {
        "id": "N9ogC15Hh23S"
      },
      "execution_count": null,
      "outputs": []
    },
    {
      "cell_type": "code",
      "source": [
        "stem(Water_cleaned$PH.P)"
      ],
      "metadata": {
        "id": "6Ql-RCDrHI6Z"
      },
      "execution_count": null,
      "outputs": []
    },
    {
      "cell_type": "code",
      "source": [
        "#STEM PLOT WITH MORE DEPTH\n",
        "stem(Water_cleaned$PH.P,scale=0.2)"
      ],
      "metadata": {
        "id": "k5XPoNs5HQBt"
      },
      "execution_count": null,
      "outputs": []
    },
    {
      "cell_type": "code",
      "source": [
        "class(Water_cleaned$COND.S)"
      ],
      "metadata": {
        "id": "rVKh_cELI9uT"
      },
      "execution_count": null,
      "outputs": []
    },
    {
      "cell_type": "code",
      "source": [
        "class(Water_cleaned$SS.D)"
      ],
      "metadata": {
        "id": "xKHu8Rr_JWOW"
      },
      "execution_count": null,
      "outputs": []
    },
    {
      "cell_type": "code",
      "source": [],
      "metadata": {
        "id": "xzprk1YYJZED"
      },
      "execution_count": null,
      "outputs": []
    },
    {
      "cell_type": "code",
      "source": [
        "class(Water_cleaned$PH.P)"
      ],
      "metadata": {
        "id": "EwBYjOpfJr65"
      },
      "execution_count": null,
      "outputs": []
    },
    {
      "cell_type": "code",
      "source": [
        "\n",
        "\n"
      ],
      "metadata": {
        "id": "SsfOabBqLRzy"
      },
      "execution_count": null,
      "outputs": []
    },
    {
      "cell_type": "code",
      "source": [
        "########WHY ARE WE GETTING THIS ERROR##########################3\n",
        "PH_P<- Water_cleaned$PH.P\n",
        "PH_S<- Water_cleaned$PH.S\n",
        "boxplot(PH_P,PH_S, names = c(\"PH_P\", \"PH_S\"), main=\"Box plot of different variables \")"
      ],
      "metadata": {
        "id": "2JbLdZfgHuS1"
      },
      "execution_count": null,
      "outputs": []
    },
    {
      "cell_type": "code",
      "source": [
        "#########ANSWER IS THE PRESENCE OF THESE SPECIAL CHARACTERS IN THE DATASET WITH A QUESTION MARK. These must be eliminated.\n",
        "class(Water_cleaned$PH.S)"
      ],
      "metadata": {
        "id": "7e-I0oUdJ4nq"
      },
      "execution_count": null,
      "outputs": []
    },
    {
      "cell_type": "code",
      "source": [
        "# Remove question marks from the 'Value' column\n",
        "Water_cleaned$PH.S <- gsub(\"\\\\?\", \"\", Water_cleaned$PH.S)\n",
        "\n",
        "# Convert the 'Value' column back to numeric (if needed)\n",
        "Water_cleaned$PH.S <- as.numeric(Water_cleaned$PH.S)\n",
        "class(Water_cleaned$PH.S)\n"
      ],
      "metadata": {
        "id": "gIkoqQ8JLplm"
      },
      "execution_count": null,
      "outputs": []
    },
    {
      "cell_type": "code",
      "source": [
        "########NOW WE DONT GET THAT ERROR. WE ALSO SEE THAT THESE TWO VARIABLES HAVE DIFFERENT DISTRIBUTIONS AND BOTH HAVE OUTLIERS\n",
        "PH_P<- Water_cleaned$PH.P\n",
        "PH_S<- Water_cleaned$PH.S\n",
        "boxplot(PH_P,PH_S, names = c(\"PH_P\", \"PH_S\"), main=\"Box plot of different variables \")"
      ],
      "metadata": {
        "id": "DGxdCOqFL1uz"
      },
      "execution_count": null,
      "outputs": []
    },
    {
      "cell_type": "code",
      "source": [
        "#If both sets of quantiles came from the same distribution, then the points on the plot should roughly form a straight diagonal line."
      ],
      "metadata": {
        "id": "O5ixfPxPMM0W"
      },
      "execution_count": null,
      "outputs": []
    },
    {
      "cell_type": "code",
      "source": [
        "#######WE SEE THAT BOTH ARE FROM DIFFERENT DISTRIBUTIONS################\n",
        "qqplot(Water_cleaned$PH.P, Water_cleaned$PH.S,main=\"QQPLOT to check the distributions\")"
      ],
      "metadata": {
        "id": "91u-76DpIk2L"
      },
      "execution_count": null,
      "outputs": []
    },
    {
      "cell_type": "code",
      "source": [
        "#CDF plot will show the cumulative distribution of the data, allowing to understand how the data values are\n",
        "#spread across the entire range and what proportion of data falls below or equal to specific values.\n",
        "#########we see that majority of the values for this variable are at 7.8\n",
        "plot(Water_cleaned$PH.P, main = \"CDF Plot OF PH.P\", xlab = \"Data\", ylab = \"Cumulative Probability\", col = \"blue\")"
      ],
      "metadata": {
        "id": "GhLc4LyBMwEY"
      },
      "execution_count": null,
      "outputs": []
    },
    {
      "cell_type": "code",
      "source": [
        "data_range <- range(Water_cleaned$PH.P)\n",
        "print(data_range)"
      ],
      "metadata": {
        "id": "o2G51lVPOgNo"
      },
      "execution_count": null,
      "outputs": []
    },
    {
      "cell_type": "code",
      "source": [
        "########WE NEED TO GET THE RANGE OF VALUES BEFORE WE PLOT THE RUG PLOT###########\n",
        "\n",
        "hist(Water_cleaned$PH.P, seq(7., 10., 1.0), prob = TRUE)\n",
        "rug(Water_cleaned$PH.P,col=\"Pink\")"
      ],
      "metadata": {
        "id": "D-csNsOPOBiP"
      },
      "execution_count": null,
      "outputs": []
    },
    {
      "cell_type": "code",
      "source": [
        "hist(Water_cleaned$PH.S, seq(7., 10., 1.0), prob = TRUE)\n",
        "rug(Water_cleaned$PH.S,col=\"Pink\")"
      ],
      "metadata": {
        "id": "IjTtdrYMRCut"
      },
      "execution_count": null,
      "outputs": []
    },
    {
      "cell_type": "code",
      "source": [
        "################FILTERING################\n",
        "#FILTER OUTPUT PH VALUE:KEEP ONLY HIGHER PH VALUES"
      ],
      "metadata": {
        "id": "3rd9rFC_QYgV"
      },
      "execution_count": null,
      "outputs": []
    },
    {
      "cell_type": "code",
      "source": [
        "filterdf_density <- Water_cleaned%>% filter(PH.S>7.5)\n",
        "\n",
        "# Print filtered data frame\n",
        "filterdf_density"
      ],
      "metadata": {
        "id": "1NKcHhguTXfd"
      },
      "execution_count": null,
      "outputs": []
    },
    {
      "cell_type": "code",
      "source": [
        "Water_cleaned_high_ph <- na.omit(filterdf_density)"
      ],
      "metadata": {
        "id": "AYNGutd8Tw5S"
      },
      "execution_count": null,
      "outputs": []
    },
    {
      "cell_type": "code",
      "source": [
        "hist(Water_cleaned_high_ph$PH.E)"
      ],
      "metadata": {
        "id": "dsGowx3nUv--"
      },
      "execution_count": null,
      "outputs": []
    },
    {
      "cell_type": "code",
      "source": [
        "plot(Water_cleaned_high_ph$PH.E, main = \"CDF Plot OF PH.E\", xlab = \"Data\", ylab = \"Cumulative Probability\", col = \"blue\")"
      ],
      "metadata": {
        "id": "jh57Ya84U8ut"
      },
      "execution_count": null,
      "outputs": []
    }
  ]
}