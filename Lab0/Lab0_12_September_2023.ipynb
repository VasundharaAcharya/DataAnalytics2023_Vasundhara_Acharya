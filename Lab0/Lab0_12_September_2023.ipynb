{
  "nbformat": 4,
  "nbformat_minor": 0,
  "metadata": {
    "colab": {
      "private_outputs": true,
      "provenance": []
    },
    "kernelspec": {
      "name": "ir",
      "display_name": "R"
    },
    "language_info": {
      "name": "R"
    }
  },
  "cells": [
    {
      "cell_type": "code",
      "source": [
        "##############BOSTON DATASET##############\n",
        "install.packages(\"MASS\") # installing the MASS package\n",
        "library(MASS) # load the library MASS\n",
        "attach(Boston) # attaching the dataset\n"
      ],
      "metadata": {
        "id": "r8Vd9jFWDXWh"
      },
      "execution_count": null,
      "outputs": []
    },
    {
      "cell_type": "code",
      "source": [
        "?Boston # help function with \"?\"\n",
        "head(Boston) # show the head of the dataset\n"
      ],
      "metadata": {
        "id": "3Pjpt0epDZAO"
      },
      "execution_count": null,
      "outputs": []
    },
    {
      "cell_type": "code",
      "source": [
        "dim(Boston) # dimensions of the dataset\n"
      ],
      "metadata": {
        "id": "AvcsKsUSDZDf"
      },
      "execution_count": null,
      "outputs": []
    },
    {
      "cell_type": "code",
      "source": [
        "names(Boston) # column names\n"
      ],
      "metadata": {
        "id": "Ku4Qfm8FDZGs"
      },
      "execution_count": null,
      "outputs": []
    },
    {
      "cell_type": "code",
      "source": [
        "str(Boston) # str function shows the structure of the dataset\n"
      ],
      "metadata": {
        "id": "8R5PIWumDZJx"
      },
      "execution_count": null,
      "outputs": []
    },
    {
      "cell_type": "code",
      "source": [
        "nrow(Boston) # function shows the number of rows\n"
      ],
      "metadata": {
        "id": "wO5RA4Fq_w4R"
      },
      "execution_count": null,
      "outputs": []
    },
    {
      "cell_type": "code",
      "source": [
        "ncol(Boston) # function shows the number of columns\n"
      ],
      "metadata": {
        "id": "QQr6D0-G_w7h"
      },
      "execution_count": null,
      "outputs": []
    },
    {
      "cell_type": "code",
      "source": [
        "summary(Boston) # summary() function shows the summary\n",
        "\n"
      ],
      "metadata": {
        "id": "0wNq4n1Y_0t3"
      },
      "execution_count": null,
      "outputs": []
    },
    {
      "cell_type": "code",
      "source": [
        "summary(Boston$crim) # summary of the \"crime\" column in the\n"
      ],
      "metadata": {
        "id": "wPQOL3jJ_02H"
      },
      "execution_count": null,
      "outputs": []
    },
    {
      "cell_type": "code",
      "source": [
        "################MY experiments: Display summary by eliminating the NA values from computation\n",
        "\n"
      ],
      "metadata": {
        "id": "BLantlmT_58P"
      },
      "execution_count": null,
      "outputs": []
    },
    {
      "cell_type": "code",
      "source": [
        "summary(Boston$rad, na.rm=T) ###########for the rad column"
      ],
      "metadata": {
        "id": "s-p05oAaAQT3"
      },
      "execution_count": null,
      "outputs": []
    },
    {
      "cell_type": "code",
      "source": [
        "summary(Boston$rad) ###########for the rad column"
      ],
      "metadata": {
        "id": "96CcgI36_5_z"
      },
      "execution_count": null,
      "outputs": []
    },
    {
      "cell_type": "code",
      "source": [
        "###########From here we work on the EPI DATASET############"
      ],
      "metadata": {
        "id": "KUUcwFflDXZy"
      },
      "execution_count": null,
      "outputs": []
    },
    {
      "cell_type": "code",
      "source": [
        "library(ggplot2)\n",
        "#############READ THE DATASET#############\n",
        "EPI<-read.csv(\"EPI_data.csv\")\n",
        "#########################ACCESS THE EPI VARIABLE FROM THE DATAFRAME\n",
        "\n",
        "summary(EPI$EPI)"
      ],
      "metadata": {
        "id": "Te9KQQ2zDV0t"
      },
      "execution_count": null,
      "outputs": []
    },
    {
      "cell_type": "code",
      "source": [
        "#################DO not consider the missing values in the summary statistics calculation\n",
        "summary(EPI$EPI, na.rm = T)"
      ],
      "metadata": {
        "id": "zfcnnJRTBcid"
      },
      "execution_count": null,
      "outputs": []
    },
    {
      "cell_type": "code",
      "source": [
        "#################DISPLAY THE MEAN, MEDIAN, Minimum, Lower Hinge (Q1),Median (Q2), Upper Hinge (Q3) and Maximum\n",
        "fivenum(EPI$EPI, na.rm = T)"
      ],
      "metadata": {
        "id": "381faj3VA2xg"
      },
      "execution_count": null,
      "outputs": []
    },
    {
      "cell_type": "code",
      "source": [
        "#################TO PLOT THE BOXPLOT OF THE VARIABLE EPI\n",
        "boxplot(EPI$EPI, main = \"Boxplot of EPI\",names = c(\"EPI\"))"
      ],
      "metadata": {
        "id": "5h-nyTikBBcH"
      },
      "execution_count": null,
      "outputs": []
    }
  ]
}