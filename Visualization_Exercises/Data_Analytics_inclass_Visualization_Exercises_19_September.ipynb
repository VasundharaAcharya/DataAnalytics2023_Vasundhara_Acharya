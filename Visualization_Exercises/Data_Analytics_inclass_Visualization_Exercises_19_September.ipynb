{
  "nbformat": 4,
  "nbformat_minor": 0,
  "metadata": {
    "colab": {
      "private_outputs": true,
      "provenance": []
    },
    "kernelspec": {
      "name": "ir",
      "display_name": "R"
    },
    "language_info": {
      "name": "R"
    }
  },
  "cells": [
    {
      "cell_type": "code",
      "execution_count": null,
      "metadata": {
        "id": "J3ZITHkm3nRZ"
      },
      "outputs": [],
      "source": [
        "# Creating a dataframe\n",
        "# Example: RPI Weather dataframe.\n",
        "\n",
        "days <- c('Mon', 'Tue','Wed','Thur','Fri','Sat','Sun') #  days\n",
        "temp <- c(28,30.5,32,31.2,29.3,27.9,26.4) # Temperature in F' during the winter :)\n",
        "snowed <- c('T','T','F','F','T','T','T') # Snowed on that day: T = TRUE, F= FALSE\n",
        "snowed\n",
        "class(snowed)\n",
        "help(\"data.frame\")\n",
        "\n",
        "\n",
        "\n",
        "\n"
      ]
    },
    {
      "cell_type": "code",
      "source": [
        "emptyDataframe <- data.frame()\n",
        "emptyDataframe\n",
        "\n",
        "RPI_Weather_Week <- data.frame(days,temp,snowed) # creating the dataframe using the data.frame() function\n",
        "\n",
        "RPI_Weather_Week\n",
        "head(RPI_Weather_Week)"
      ],
      "metadata": {
        "id": "qYU8FG0H4IAZ"
      },
      "execution_count": null,
      "outputs": []
    },
    {
      "cell_type": "code",
      "source": [
        "\n",
        "str(RPI_Weather_Week) # we can take a look at the structure of the dataframe using the str() function.\n",
        "\n",
        "summary(RPI_Weather_Week) # summary of the dataframe using the summary() function\n",
        "summary((RPI_Weather_Week$temp))\n"
      ],
      "metadata": {
        "id": "Fp5uFT7J4L25"
      },
      "execution_count": null,
      "outputs": []
    },
    {
      "cell_type": "code",
      "source": [
        "\n",
        "RPI_Weather_Week[1,] # showing the 1st row and all the columns\n",
        "RPI_Weather_Week[,1] # showing the 1st coulmn and all the rows\n",
        "\n",
        "RPI_Weather_Week[,'snowed']\n",
        "RPI_Weather_Week[,'days']\n",
        "RPI_Weather_Week[,'temp']\n",
        "RPI_Weather_Week[1:5,c(\"days\",\"temp\")]\n",
        "RPI_Weather_Week$temp\n",
        "subset(RPI_Weather_Week,subset=snowed==TRUE)"
      ],
      "metadata": {
        "id": "C2SjDXY54N9_"
      },
      "execution_count": null,
      "outputs": []
    },
    {
      "cell_type": "code",
      "source": [
        "dec.snow <- order(-RPI_Weather_Week$temp)\n",
        "dec.snow\n",
        "# Creating Dataframes\n",
        "# creating an empty dataframe\n",
        "empty.DataFrame <- data.frame()\n"
      ],
      "metadata": {
        "id": "M8Fj0KFB4SgG"
      },
      "execution_count": null,
      "outputs": []
    },
    {
      "cell_type": "code",
      "source": [
        "v1 <- 1:10\n",
        "v1\n",
        "letters\n",
        "v2 <- letters[1:10]\n",
        "v2\n",
        "df <- data.frame(col_name.1 = v1,col.name.2 = v2)\n",
        "df\n",
        "# importing data and exporting data\n",
        "# writing to a CSV file:\n",
        "write.csv(df,file = 'saved_df1_Section2.csv')\n",
        "df_section2 <- read.csv('saved_df1_Section2.csv')\n",
        "df_section2"
      ],
      "metadata": {
        "id": "9IOfo5Kc4cpX"
      },
      "execution_count": null,
      "outputs": []
    },
    {
      "cell_type": "code",
      "source": [
        "nrow(df)\n",
        "ncol(df)\n",
        "colnames(df)\n",
        "rownames(df)\n",
        "str(df)\n",
        "summary(df)"
      ],
      "metadata": {
        "id": "crnurnNF4fkP"
      },
      "execution_count": null,
      "outputs": []
    },
    {
      "cell_type": "code",
      "source": [
        "df[[5,2]]\n",
        "df[[5,'col.name.2']]\n",
        "df[[3,'col.name.1']]\n",
        "df[[4,'col.name.2']]\n",
        "df[[3,'col.name.2']] <- 3000\n",
        "df\n"
      ],
      "metadata": {
        "id": "26fx5nvJ4h-n"
      },
      "execution_count": null,
      "outputs": []
    },
    {
      "cell_type": "code",
      "source": [
        "\n",
        "persons.df <- data.frame(FirstName = 'Vasundhara', LastName ='Acharya', ID = 123456, Instituete = 'RPI')\n",
        "persons.df\n",
        "\n"
      ],
      "metadata": {
        "id": "Y-yFSKvC4pCb"
      },
      "execution_count": null,
      "outputs": []
    },
    {
      "cell_type": "code",
      "source": [
        "Age <- c(27,25,26,28)\n",
        "Weight <- c(155,175,130,155)\n",
        "Sex <- c('M','M','F','O')\n",
        "Names <- c('Mike','Jason','Silvia','Dell')\n",
        "people <- data.frame(Names, Age = Age, Weight = Weight, Sex = Sex)\n",
        "people2 <- data.frame(Names, Age, Weight, Sex)\n",
        "people2\n",
        "\n",
        "df <- data.frame(row.names = Names, Age, Weight,Sex)\n",
        "df\n",
        "is.na(df)\n",
        "is.data.frame(df)\n",
        "# names <- data.frame(Age,Weight,Sex)\n",
        "# names\n",
        "\n",
        "mat <- matrix(1:25,nrow = 5)\n",
        "mat2 <- as.data.frame(mat)\n",
        "is.data.frame(mat2)\n"
      ],
      "metadata": {
        "id": "GYE14Ajk4UDR"
      },
      "execution_count": null,
      "outputs": []
    },
    {
      "cell_type": "code",
      "source": [
        "# Lists\n",
        "vec <- c(6,7,8) # vector\n",
        "mat <- matrix(1:30, nrow = 5) # matrix\n",
        "mat\n",
        "class(vec)\n",
        "class(mat)\n",
        "# if you want to include different data structures in to one single variable, you can use the list()\n",
        "# list() function allow us to combine different datastructure into a single variable.\n",
        "my.list <- list(vec,mat,df)\n",
        "my.list\n",
        "# instead of having automatically numbered, we can name the item in the list as follows:\n",
        "my.named.list <- list(sampleVec = vec, SampleMatrix = mat, SampleDataFrame = df)\n",
        "my.named.list\n",
        "\n",
        "# List is more like an organizational tool, you can organize various dataframes\n",
        "# One advantage is, you can call the items in the list using the $ sign to call them as you call them like coulums.\n",
        "my.named.list$sampleVec\n",
        "my.named.list$SampleMatrix\n",
        "my.named.list$SampleDataFrame"
      ],
      "metadata": {
        "id": "ZBFor9GKBl8O"
      },
      "execution_count": null,
      "outputs": []
    },
    {
      "cell_type": "code",
      "source": [
        "#########PLOTTING EXERCISES###########\n",
        "data(mtcars)"
      ],
      "metadata": {
        "id": "KaoeKdZyB6LA"
      },
      "execution_count": null,
      "outputs": []
    },
    {
      "cell_type": "code",
      "source": [
        "plot (mtcars$wt, mtcars$mpg)\n",
        "library (ggplot2)\n",
        "qplot (mtcars$wt, mtcars$mpg)\n",
        "qplot (wt, mpg, data = mtcars)\n",
        "ggplot (mtcars, aes ( x=wt,y=mpg) ) + geom_point ()\n",
        "plot (pressure$temperature,pressure$pressure, type = \"l\")\n",
        "points (pressure$temperature,pressure$pressure)\n",
        "lines (pressure$temperature,pressure$pressure/2, col=\"red\")\n",
        "points (pressure $ temperature,pressure $ pressure /2, col=\"blue\")\n",
        "library (ggplot2)\n",
        "qplot (pressure $temperature,pressure$pressure, geom=\"line\")\n",
        "qplot (temperature,pressure, data = pressure, geom = \"line\")\n",
        "ggplot(pressure, aes ( x= temperature,y=pressure)) + geom_line () + geom_point()\n",
        "ggplot(pressure, aes ( x= temperature, y= pressure ))+ geom_line ()+ geom_point ()\n",
        "##########3WE NOTE THAT AS PRESSURE INCREASES, TEMPERATURE ALSO INCREASES"
      ],
      "metadata": {
        "id": "_OYvRHfyB9ko"
      },
      "execution_count": null,
      "outputs": []
    },
    {
      "cell_type": "code",
      "source": [
        "##################CREATING THE BAR GRAPHS###########\n",
        "# Creating Bar graphs\n",
        "barplot (BOD$ demand, names.arg = BOD $ Time )\n",
        "table (mtcars $cyl)\n",
        "barplot(table(mtcars $cyl) ) # generate a table of counts\n",
        "qplot(mtcars$cyl) # cyl is continous here\n",
        "qplot(factor (mtcars$cyl)) # treat cyl as discrete\n",
        "# Bar graph of counts\n",
        "qplot (factor (cyl), data = mtcars)\n",
        "ggplot (mtcars, aes (x=factor (cyl)))+ geom_bar ()\n"
      ],
      "metadata": {
        "id": "HF1yBgeQC5xQ"
      },
      "execution_count": null,
      "outputs": []
    },
    {
      "cell_type": "code",
      "source": [
        "#######WE NOTE THAT  CAR WITH 15 miles per gallon ARE IN MORE COUNT THAN OTHERS######\n",
        "hist(mtcars$mpg)\n",
        "hist(mtcars$mpg, breaks = 10) # specify apprioximate number\n",
        "hist (mtcars$mpg, breaks =5 )\n",
        "hist (mtcars$mpg, breaks =12 )\n",
        "qplot (mpg, data = mtcars, binwidth=4)\n",
        "ggplot (mtcars, aes (x=mpg) ) + geom_histogram (binwidth =4 )\n",
        "ggplot(mtcars, aes (X=mpg))+ geom_histogram (binwidth =5)\n"
      ],
      "metadata": {
        "id": "huQ5SrVLDSGr"
      },
      "execution_count": null,
      "outputs": []
    },
    {
      "cell_type": "code",
      "source": [
        "plot(ToothGrowth$supp, ToothGrowth$len) # using plot() function and pass it a factor of x-values and a vector of y-values.\n",
        "#Formula Syntax\n",
        "boxplot(len ~ supp, data = ToothGrowth) # if the tw0 vectors are in the same dataframe, you can use the formula syntax. With # this syntax you can combine two variables on the x-axis.\n",
        "# put interaction of two variables on x-axis,with formula syntax and two variables on the x-axis\n",
        "boxplot(len ~ supp + dose, data = ToothGrowth)\n",
        "# with ggplot2 you can get the same results above.\n",
        "library (ggplot2)\n",
        "qplot(ToothGrowth$supp, ToothGrowth$len, geom = \"boxplot\")\n",
        "# if the two vectors are in the same dataframe, you can use the following syntax\n",
        "qplot(supp, len, data = ToothGrowth, geom = \"boxplot\")\n",
        "# in ggplot2, the above is equvalent to:\n",
        "ggplot (ToothGrowth, aes( x= supp, y= len)) + geom_boxplot ()\n",
        "# Using three seperate vectors\n",
        "qplot (interaction(ToothGrowth$supp, ToothGrowth$dose), ToothGrowth$len, geom = \"boxplot\")\n",
        "# You can write the samething above, get the columns from the dataframe\n",
        "qplot (interaction(supp, dose), len, data = ToothGrowth, geom = \"boxplot\")\n",
        "# Using ggplot() you can do the samething and it is equivalent to:\n",
        "ggplot (ToothGrowth, aes ( x= interaction(supp, dose), y= len) ) + geom_boxplot ()\n",
        "#Plotting a function curve\n"
      ],
      "metadata": {
        "id": "lUoPuGwYEEOr"
      },
      "execution_count": null,
      "outputs": []
    },
    {
      "cell_type": "code",
      "source": [],
      "metadata": {
        "id": "nGz7ZVTfB6Qg"
      },
      "execution_count": null,
      "outputs": []
    }
  ]
}